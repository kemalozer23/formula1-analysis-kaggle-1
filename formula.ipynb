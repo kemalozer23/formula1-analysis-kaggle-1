{
 "cells": [
  {
   "cell_type": "code",
   "execution_count": 1,
   "metadata": {},
   "outputs": [],
   "source": [
    "import numpy as np\n",
    "import pandas as pd\n",
    "\n",
    "import plotly.express as px\n",
    "import plotly.graph_objects as go"
   ]
  },
  {
   "cell_type": "code",
   "execution_count": 2,
   "metadata": {},
   "outputs": [],
   "source": [
    "circuits = pd.read_csv(\"circuits.csv\")\n",
    "constructor_results = pd.read_csv(\"constructor_results.csv\")\n",
    "constructor_standings = pd.read_csv(\"constructor_standings.csv\")\n",
    "constructors = pd.read_csv(\"constructors.csv\")\n",
    "driver_standings = pd.read_csv(\"driver_standings.csv\")\n",
    "drivers = pd.read_csv(\"drivers.csv\")\n",
    "lap_times = pd.read_csv(\"lap_times.csv\")\n",
    "pit_stops = pd.read_csv(\"pit_stops.csv\")\n",
    "qualifying = pd.read_csv(\"qualifying.csv\")\n",
    "races = pd.read_csv(\"races.csv\")\n",
    "results = pd.read_csv(\"results.csv\")\n",
    "seasons = pd.read_csv(\"seasons.csv\")\n",
    "status = pd.read_csv(\"status.csv\")"
   ]
  }
 ],
 "metadata": {
  "interpreter": {
   "hash": "b534e2124af7077393f074e7b52eca72645c535c953d670bad1c7cb61116b561"
  },
  "kernelspec": {
   "display_name": "Python 3.10.0 64-bit ('minimal_ds': conda)",
   "language": "python",
   "name": "python3"
  },
  "language_info": {
   "codemirror_mode": {
    "name": "ipython",
    "version": 3
   },
   "file_extension": ".py",
   "mimetype": "text/x-python",
   "name": "python",
   "nbconvert_exporter": "python",
   "pygments_lexer": "ipython3",
   "version": "3.10.0"
  },
  "orig_nbformat": 4
 },
 "nbformat": 4,
 "nbformat_minor": 2
}
